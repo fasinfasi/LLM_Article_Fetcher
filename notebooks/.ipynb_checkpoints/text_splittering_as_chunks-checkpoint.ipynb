{
 "cells": [
  {
   "cell_type": "code",
   "execution_count": 1,
   "id": "8860f621-7e23-4862-b665-c8501c725517",
   "metadata": {},
   "outputs": [],
   "source": [
    "# Sample texts\n",
    "text =\"\"\"\n",
    "The Marvel Cinematic Universe(MCU) centers on a series of American superhero films produced by Marvel Studios based on characters that appear in publications by Marvel Comics. The MCU is the shared universe in which all of the films are set. The films have been in production since 2007, and in that time Marvel Studios has produced and released 36 films, with at least 9 more in various stages of development.\n",
    "It is the highest-grossing film franchise of all time, having grossed over $31.9 billion at the global box office. This includes Avengers: Endgame, which became the highest-grossing film of all time at the time of its release. \n",
    "The films are written and directed by various individuals and feature large, often ensemble, casts. Marvel Studios president Kevin Feige has produced every film in the franchise, while other Marvel Studios executives have also produced some films alongside Feige, including the studio's former CEO Avi Arad for the first two releases.\n",
    "Other individuals have also produced select MCU films, including Gale Anne Hurd for The Incredible Hulk; Amy Pascal for the Spider-Man films; Lauren Shuler Donner, Ryan Reynolds, and Shawn Levy for Deadpool & Wolverine; and Anthony and Joe Russo for Avengers: Doomsday and Avengers: Secret Wars. Marvel Studios releases its films in groups called \"Phases\". Its first film is Iron Man (2008), which was distributed by Paramount Pictures.\n",
    "Paramount also distributed Iron Man 2 (2010), Thor (2011), and Captain America: The First Avenger (2011), while Universal Pictures distributed The Incredible Hulk (2008), which was co-produced by Hurd's production company Valhalla Motion Pictures. Walt Disney Studios Motion Pictures began distributing the series with the crossover film The Avengers (2012), which concluded Phase One. Phase Two comprises Iron Man 3 (2013), Thor: The Dark World (2013), Captain America: The Winter Soldier (2014), Guardians of the Galaxy (2014), Avengers: Age of Ultron (2015), and Ant-Man (2015). \n",
    "Captain America: Civil War (2016) is the first film of Phase Three, and is followed by Doctor Strange (2016), Guardians of the Galaxy Vol. 2 (2017), Spider-Man: Homecoming (2017), Thor: Ragnarok (2017), Black Panther (2018), Avengers: Infinity War (2018), Ant-Man and the Wasp (2018), Captain Marvel (2019), Avengers: Endgame (2019), and Spider-Man: Far From Home (2019). The first three Phases are collectively known as \"The Infinity Saga\". The Spider-Man films are owned, financed, and distributed by Sony Pictures and co-produced by Sony's Columbia Pictures and Pascal Pictures.\n",
    "Phase Four's group of films began with Black Widow (2021), and was followed by Shang-Chi and the Legend of the Ten Rings (2021), Eternals (2021), Spider-Man: No Way Home (2021), Doctor Strange in the Multiverse of Madness (2022), Thor: Love and Thunder (2022), and Black Panther: Wakanda Forever (2022). The Phase featured these films, as well as eight television series and two specials for the streaming service Disney+.Phase Five begins with Ant-Man and the Wasp: Quantumania (2023), followed by Guardians of the Galaxy Vol. 3 (2023), The Marvels (2023), Deadpool & Wolverine (2024), Captain America: Brave New World (2025), and Thunderbolts* (2025).\n",
    "This Phase also includes a total of nine seasons of television series for Disney+. Phase Six will include The Fantastic Four: First Steps (2025), Spider-Man: Brand New Day (2026), Avengers: Doomsday (2026), and Avengers: Secret Wars (2027). The fourth, fifth, and sixth Phases are collectively known as \"The Multiverse Saga\". Deadpool & Wolverine was co-produced by Reynolds's and Levy's respective companies Maximum Effort and 21 Laps Entertainment, while the Russo brothers's company AGBO co-produces Avengers: Doomsday and Secret Wars.\n",
    "\"\"\""
   ]
  },
  {
   "cell_type": "code",
   "execution_count": 2,
   "id": "2dec9c4b-8240-46c0-a5d7-05da472316c4",
   "metadata": {},
   "outputs": [
    {
     "data": {
      "text/plain": [
       "3770"
      ]
     },
     "execution_count": 2,
     "metadata": {},
     "output_type": "execute_result"
    }
   ],
   "source": [
    "len(text)"
   ]
  },
  {
   "cell_type": "code",
   "execution_count": 3,
   "id": "7682435f-d309-4d1a-a96b-7388d3791c81",
   "metadata": {},
   "outputs": [
    {
     "data": {
      "text/plain": [
       "'\\nThe Marvel Cinematic Universe(MCU) centers on a series of American superhero films produced by Marv'"
      ]
     },
     "execution_count": 3,
     "metadata": {},
     "output_type": "execute_result"
    }
   ],
   "source": [
    "text[:100]"
   ]
  },
  {
   "cell_type": "markdown",
   "id": "dd025103-718d-4391-811b-a3753a1a9b7f",
   "metadata": {},
   "source": [
    "Above i try to cut(divide) the 'text' into 100 characters by simple method i got in complete word at last.\n",
    "So this is not appropriate method"
   ]
  },
  {
   "cell_type": "markdown",
   "id": "1817114e-7aec-4eec-a872-070882c1e67a",
   "metadata": {},
   "source": [
    "### Use CharacterTextSplitter"
   ]
  },
  {
   "cell_type": "code",
   "execution_count": 4,
   "id": "58e966f8-01b7-4d56-8deb-b2a9fc86b53c",
   "metadata": {},
   "outputs": [
    {
     "name": "stderr",
     "output_type": "stream",
     "text": [
      "Created a chunk of size 410, which is longer than the specified 100\n",
      "Created a chunk of size 227, which is longer than the specified 100\n",
      "Created a chunk of size 334, which is longer than the specified 100\n",
      "Created a chunk of size 436, which is longer than the specified 100\n",
      "Created a chunk of size 582, which is longer than the specified 100\n",
      "Created a chunk of size 581, which is longer than the specified 100\n",
      "Created a chunk of size 653, which is longer than the specified 100\n"
     ]
    },
    {
     "data": {
      "text/plain": [
       "8"
      ]
     },
     "execution_count": 4,
     "metadata": {},
     "output_type": "execute_result"
    }
   ],
   "source": [
    "from langchain.text_splitter import CharacterTextSplitter\n",
    "\n",
    "splitter = CharacterTextSplitter(\n",
    "    separator=\"\\n\",\n",
    "    chunk_size=100,\n",
    "    chunk_overlap=0\n",
    ")\n",
    "\n",
    "chunks = splitter.split_text(text)\n",
    "len(chunks)"
   ]
  },
  {
   "cell_type": "code",
   "execution_count": 5,
   "id": "b319e524-3af0-434f-a142-a442f10c5cba",
   "metadata": {},
   "outputs": [
    {
     "name": "stdout",
     "output_type": "stream",
     "text": [
      "410\n",
      "226\n",
      "334\n",
      "436\n",
      "581\n",
      "581\n",
      "653\n",
      "538\n"
     ]
    }
   ],
   "source": [
    "for chunk in chunks:\n",
    "    print(len(chunk))"
   ]
  },
  {
   "cell_type": "markdown",
   "id": "27f87ebe-0940-4fb0-85f8-bfc1d8b2e6b3",
   "metadata": {},
   "source": [
    "#### But the CharacterTextSplitter only consider given separator parameter to divide into chunks, not bother about the min chunk character size. so that is not good."
   ]
  },
  {
   "cell_type": "markdown",
   "id": "65b64190-81e7-441a-9023-299b8793d88f",
   "metadata": {},
   "source": [
    "## Use RecursiveCharacterTextSplitter"
   ]
  },
  {
   "cell_type": "markdown",
   "id": "9712498c-6ffb-40d0-ad7f-685010077f5f",
   "metadata": {},
   "source": [
    "Where we can mention multiple characters."
   ]
  },
  {
   "cell_type": "code",
   "execution_count": 6,
   "id": "2336b6a9-a49c-428b-97f7-c7122cb8a3d4",
   "metadata": {},
   "outputs": [
    {
     "data": {
      "text/plain": [
       "43"
      ]
     },
     "execution_count": 6,
     "metadata": {},
     "output_type": "execute_result"
    }
   ],
   "source": [
    "from langchain.text_splitter import RecursiveCharacterTextSplitter\n",
    "\n",
    "r_splitter = RecursiveCharacterTextSplitter(\n",
    "    separators = [\"\\n\\n\", \"\\n\",  \" \"],\n",
    "    chunk_size=100,\n",
    "    chunk_overlap=0\n",
    ")\n",
    "\n",
    "chunks = r_splitter.split_text(text)\n",
    "\n",
    "len(chunks)"
   ]
  },
  {
   "cell_type": "code",
   "execution_count": 7,
   "id": "01a31c0f-079c-471e-ba3c-51de9dc5ee39",
   "metadata": {},
   "outputs": [
    {
     "name": "stdout",
     "output_type": "stream",
     "text": [
      "94\n",
      "95\n",
      "96\n",
      "99\n",
      "22\n",
      "95\n",
      "97\n",
      "32\n",
      "99\n",
      "97\n",
      "99\n",
      "36\n",
      "98\n",
      "98\n",
      "97\n",
      "95\n",
      "44\n",
      "97\n",
      "97\n",
      "93\n",
      "95\n",
      "95\n",
      "99\n",
      "93\n",
      "91\n",
      "98\n",
      "96\n",
      "91\n",
      "97\n",
      "9\n",
      "96\n",
      "98\n",
      "99\n",
      "99\n",
      "99\n",
      "98\n",
      "58\n",
      "97\n",
      "91\n",
      "90\n",
      "99\n",
      "96\n",
      "60\n"
     ]
    }
   ],
   "source": [
    "for chunk in chunks:\n",
    "    print(len(chunk))"
   ]
  },
  {
   "cell_type": "markdown",
   "id": "58ea88fb-561a-44e2-bc3c-a1c274d5694b",
   "metadata": {},
   "source": [
    "##### RecursiveCharacterTextSplitter works first consider the first given separator here it was '\\n\\n', so divide text as that way, if text divide according to given min chunk size, it stop, otherwise it use the second separator that was '\\n'. if it work then stop otherwise it use the next one separator. this process move further...."
   ]
  },
  {
   "cell_type": "code",
   "execution_count": null,
   "id": "3b74ea0d-798d-4bd0-8305-441fa29c8140",
   "metadata": {},
   "outputs": [],
   "source": []
  },
  {
   "cell_type": "code",
   "execution_count": null,
   "id": "7b3ea8c3-1348-4cfd-b4c4-795407d4c0f3",
   "metadata": {},
   "outputs": [],
   "source": []
  }
 ],
 "metadata": {
  "kernelspec": {
   "display_name": "Python (base)",
   "language": "python",
   "name": "base"
  },
  "language_info": {
   "codemirror_mode": {
    "name": "ipython",
    "version": 3
   },
   "file_extension": ".py",
   "mimetype": "text/x-python",
   "name": "python",
   "nbconvert_exporter": "python",
   "pygments_lexer": "ipython3",
   "version": "3.12.7"
  }
 },
 "nbformat": 4,
 "nbformat_minor": 5
}
