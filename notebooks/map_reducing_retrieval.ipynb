{
 "cells": [
  {
   "cell_type": "code",
   "execution_count": 3,
   "id": "ed3258e6-5556-4c6f-8112-5e19cb42c099",
   "metadata": {},
   "outputs": [],
   "source": [
    "import os\n",
    "import pickle\n",
    "import time\n",
    "import langchain\n",
    "from langchain.document_loaders import UnstructuredURLLoader"
   ]
  },
  {
   "cell_type": "code",
   "execution_count": 4,
   "id": "56e872f1-b827-4cc9-9355-ab30f1939932",
   "metadata": {},
   "outputs": [
    {
     "data": {
      "text/plain": [
       "2"
      ]
     },
     "execution_count": 4,
     "metadata": {},
     "output_type": "execute_result"
    }
   ],
   "source": [
    "loaders = UnstructuredURLLoader(urls=[\n",
    "    \"https://www.techtarget.com/whatis/definition/Amazon\",\n",
    "    \"https://en.wikipedia.org/wiki/Flipkart\"\n",
    "])\n",
    "\n",
    "data = loaders.load()\n",
    "len(data)"
   ]
  },
  {
   "cell_type": "markdown",
   "id": "88272f19-53b8-461c-a33e-671af1649e94",
   "metadata": {},
   "source": [
    "#### To create Chunks"
   ]
  },
  {
   "cell_type": "code",
   "execution_count": 11,
   "id": "5066b6e4-4690-4a4d-9b91-919dff1f3538",
   "metadata": {},
   "outputs": [],
   "source": [
    "from langchain.text_splitter import RecursiveCharacterTextSplitter\n",
    "\n",
    "text_splitter = RecursiveCharacterTextSplitter(\n",
    "    chunk_size=1000,\n",
    "    chunk_overlap=300\n",
    ")\n",
    "\n",
    "# As data is of type documents we can directly use split_documents over split_text in order to get the chunks.\n",
    "docs = text_splitter.split_documents(data)"
   ]
  },
  {
   "cell_type": "code",
   "execution_count": 12,
   "id": "f619d3e5-01ba-4014-b4fa-96a6ec435a87",
   "metadata": {},
   "outputs": [
    {
     "data": {
      "text/plain": [
       "135"
      ]
     },
     "execution_count": 12,
     "metadata": {},
     "output_type": "execute_result"
    }
   ],
   "source": [
    "len(docs)"
   ]
  },
  {
   "cell_type": "code",
   "execution_count": 13,
   "id": "fbd5042c-d800-4d2b-8281-0a2e8aeef2a0",
   "metadata": {},
   "outputs": [
    {
     "data": {
      "text/plain": [
       "Document(metadata={'source': 'https://www.techtarget.com/whatis/definition/Amazon'}, page_content=\"WhatIs\\n\\nBrowse Definitions :\\n\\nA\\n\\nB\\n\\nC\\n\\nD\\n\\nE\\n\\nF\\n\\nG\\n\\nH\\n\\nI\\n\\nJ\\n\\nK\\n\\nL\\n\\nM\\n\\nN\\n\\nO\\n\\nP\\n\\nQ\\n\\nR\\n\\nS\\n\\nT\\n\\nU\\n\\nV\\n\\nW\\n\\nX\\n\\nY\\n\\nZ\\n\\n#\\n\\nHome\\n\\nPersonal computing\\n\\nDefinition\\n\\nWhat is Amazon? Definition and company history of Amazon.com\\n\\nShare this item with your network:\\n\\nBy\\n\\nRahul Awati\\n\\nKinza Yasar, Technical Writer\\n\\nPublished: Apr 23, 2025\\n\\nAmazon (Amazon.com) is the world's largest online retailer and one of the largest providers of cloud services. As of 2025, it is considered a giant in both e-commerce and cloud computing.\\n\\nHeadquartered in Seattle, Amazon has individual websites, software development centers, customer service centers, data centers and fulfillment centers around the world. The company was founded by Jeff Bezos in 1994; he remained its CEO and president until 2021. As of 2025, he remains Amazon's executive chair and one of its largest individual shareholders.\\n\\nWhat is Amazon known for?\")"
      ]
     },
     "execution_count": 13,
     "metadata": {},
     "output_type": "execute_result"
    }
   ],
   "source": [
    "docs[0]"
   ]
  },
  {
   "cell_type": "code",
   "execution_count": 14,
   "id": "f843cf26-b7ce-4554-b0b9-56fd8e498660",
   "metadata": {},
   "outputs": [
    {
     "data": {
      "text/plain": [
       "Document(metadata={'source': 'https://www.techtarget.com/whatis/definition/Amazon'}, page_content='The early 2000s\\n\\nIn October 2000, Amazon launched its first overseas operations in Japan. The Japanese Amazon marketplace remains accessible at www.amazon.co.jp.\\n\\nIn the last quarter of 2001, Amazon turned a profit for the first time in its history. Then, 2003 became its first profitable year.\\n\\nThroughout the 2000s, Amazon expanded its original e-commerce bookstore to include hundreds of other products in many other categories, such as software, personal care, music goods, gourmet foods, sporting goods, and photography items like cameras. The expansion of its product range continued over the next few years, with the addition of newer categories like jewelry, baby products and vehicles.')"
      ]
     },
     "execution_count": 14,
     "metadata": {},
     "output_type": "execute_result"
    }
   ],
   "source": [
    "docs[5]"
   ]
  },
  {
   "cell_type": "code",
   "execution_count": 15,
   "id": "ec5c8704-4a65-4cfa-8d08-5c5ae118031a",
   "metadata": {},
   "outputs": [
    {
     "data": {
      "text/plain": [
       "Document(metadata={'source': 'https://en.wikipedia.org/wiki/Flipkart'}, page_content=\"In November 2021, Flipkart Health acquired Sastasundar Healthbuddy for undisclosed sum.[205][206]\\n\\nFunding\\n\\n[edit]\\n\\nThey received ₹33.4 crore funding from Japan-based pharmaceutical company Rohto Pharmaceutical.[207] In Aug 2019, Mitsubishi Corporation invested ₹100 crore in the company.[208]\\n\\nCriticism\\n\\n[edit]\\n\\nOn 13 September 2014, a Flipkart deliveryman allegedly molested a housemaid in Hyderabad.[209] The housemaid's employer sued Flipkart for this incident, citing the need for regulations to make offline delivery services safer.[210]\\n\\nIn 2014, competitors such as Future Group (owner of retail chain Big Bazaar at that time) filed complaints with India's Ministry of Commerce and Industry, alleging that Flipkart's Big Billion Days discounts undercut prices in a manner predatory to other retailers. The ministry stated that it would look into the complaints.[211][212][213]\")"
      ]
     },
     "execution_count": 15,
     "metadata": {},
     "output_type": "execute_result"
    }
   ],
   "source": [
    "docs[83]"
   ]
  },
  {
   "cell_type": "code",
   "execution_count": 16,
   "id": "5a35d7e2-e669-462a-aaf0-37f7169ce6cf",
   "metadata": {},
   "outputs": [
    {
     "data": {
      "text/plain": [
       "Document(metadata={'source': 'https://en.wikipedia.org/wiki/Flipkart'}, page_content='^ \"Flipkart acquires gaming startup Mech Mocha\". The Economic Times. Retrieved 16 August 2022.\\n\\n^ Tiwary, Avanish (4 November 2020). \"Flipkart acquires gaming startup Mech Mocha to expand customer base\". KrASIA. Retrieved 16 August 2022.\\n\\n^ Srivastava, Moulishree (17 November 2020). \"Flipkart\\'s acquisition of augmented reality startup Scapic aimed at enhancing customer experience\". KrASIA. Retrieved 16 August 2022.\\n\\n^ \"Flipkart adds Gujarati; app now available in eight Indian languages\". Business Today. 9 April 2021. Retrieved 11 September 2022.\\n\\n^ \"Flipkart acquires Cleartrip as part of its diversification drive\". The Economic Times. Retrieved 21 June 2022.\\n\\n^ Abrar, Peerzada (7 September 2022). \"Flipkart launches Flipkart Hotels for domestic, international market\". www.business-standard.com. Retrieved 8 February 2023.\\n\\n^ BL Mumbai Bureau (21 February 2022). \"Wego to Acquire Cleartrip\\'s Middle East Business from Flipkart\". www.thehindubusinessline.com. Retrieved 22 March 2023.')"
      ]
     },
     "execution_count": 16,
     "metadata": {},
     "output_type": "execute_result"
    }
   ],
   "source": [
    "docs[99]"
   ]
  },
  {
   "cell_type": "markdown",
   "id": "ca796807-417e-4c09-a4ff-c18985c2eefe",
   "metadata": {},
   "source": [
    "#### Create embeddings for chunks and save them to FAISS index"
   ]
  },
  {
   "cell_type": "code",
   "execution_count": 17,
   "id": "32ad90eb-4671-42a0-ac0b-b85aa76f8250",
   "metadata": {},
   "outputs": [
    {
     "name": "stdout",
     "output_type": "stream",
     "text": [
      "WARNING:tensorflow:From C:\\Users\\HP\\AppData\\Roaming\\Python\\Python312\\site-packages\\tf_keras\\src\\losses.py:2976: The name tf.losses.sparse_softmax_cross_entropy is deprecated. Please use tf.compat.v1.losses.sparse_softmax_cross_entropy instead.\n",
      "\n"
     ]
    }
   ],
   "source": [
    "from langchain_huggingface import HuggingFaceEmbeddings\n",
    "from langchain.vectorstores import FAISS\n",
    "\n",
    "embeddings = HuggingFaceEmbeddings()\n",
    "\n",
    "# Pass the documents and embeddings inorder to create FAISS vector index\n",
    "vectorindex = FAISS.from_documents(docs, embeddings)"
   ]
  },
  {
   "cell_type": "code",
   "execution_count": 18,
   "id": "c2570420-d638-4d89-a116-936f36da4fe7",
   "metadata": {},
   "outputs": [],
   "source": [
    "# Storing vector index create in local\n",
    "file_path = \"vector_index.pkl\"\n",
    "\n",
    "with open(file_path, \"wb\") as f:\n",
    "    pickle.dump(vectorindex, f)"
   ]
  },
  {
   "cell_type": "code",
   "execution_count": 19,
   "id": "723022fe-b1b5-4294-90c2-1612746c4d91",
   "metadata": {},
   "outputs": [],
   "source": [
    "if os.path.exists(file_path):\n",
    "    with open(file_path, \"rb\") as f:\n",
    "        vectorIndex = pickle.load(f) "
   ]
  },
  {
   "cell_type": "markdown",
   "id": "5ac3334d-facc-4deb-9e16-e18281e457ac",
   "metadata": {},
   "source": [
    "### Retrieve similar embeddings for a given question and call LLM to retrieve final answer"
   ]
  },
  {
   "cell_type": "code",
   "execution_count": 77,
   "id": "b73e948b-d6ca-4ed7-9e52-25f198ebbca6",
   "metadata": {},
   "outputs": [],
   "source": [
    "from langchain_huggingface.llms.huggingface_endpoint import HuggingFaceEndpoint\n",
    "import os\n",
    "from dotenv import load_dotenv\n",
    "\n",
    "load_dotenv()\n",
    "hf_token = os.getenv(\"HF_TOKEN\")\n",
    "\n",
    "HUGGINGFACEHUB_API_TOKEN = hf_token\n",
    "\n",
    "hf_endpoint = HuggingFaceEndpoint(\n",
    "    repo_id=\"HuggingFaceH4/zephyr-7b-beta\",\n",
    "    task=\"text-generation\",\n",
    "    huggingfacehub_api_token=HUGGINGFACEHUB_API_TOKEN,\n",
    "    timeout=60,\n",
    "    temperature=0.7,\n",
    "    max_new_tokens=512\n",
    ")\n"
   ]
  },
  {
   "cell_type": "code",
   "execution_count": 70,
   "id": "f5eb162a-01ba-46d8-adf6-74deea440fd9",
   "metadata": {},
   "outputs": [],
   "source": [
    "from langchain_huggingface.chat_models.huggingface import ChatHuggingFace\n",
    "\n",
    "chat_llm = ChatHuggingFace(\n",
    "    llm=hf_endpoint,\n",
    "    verbose=True\n",
    ")\n"
   ]
  },
  {
   "cell_type": "code",
   "execution_count": 71,
   "id": "415c484e-50dd-4c56-8973-b161c3a1aba8",
   "metadata": {},
   "outputs": [],
   "source": [
    "from langchain.chains import RetrievalQAWithSourcesChain\n",
    "\n",
    "chain = RetrievalQAWithSourcesChain.from_llm(\n",
    "    llm=chat_llm,\n",
    "    retriever=vectorIndex.as_retriever()\n",
    ")\n"
   ]
  },
  {
   "cell_type": "markdown",
   "id": "4a92c3b9-e495-40d4-a8fe-6971382225ce",
   "metadata": {},
   "source": [
    "### Checking by giving some queries"
   ]
  },
  {
   "cell_type": "code",
   "execution_count": 73,
   "id": "c24d616c-1088-4a8b-a0ff-0c251db23496",
   "metadata": {},
   "outputs": [
    {
     "name": "stdout",
     "output_type": "stream",
     "text": [
      "\n",
      "Query: which product categories contributed most to its gross merchandise volume during the sale?\n",
      "\n",
      "=== RESULT ===\n",
      "Answer: There is no final answer provided as the given text does not contain sufficient information to determine which product categories contributed most to Flipkart's gross merchandise volume during a sale. Further context or external sources may be necessary to answer the question accurately.\n",
      "Sources: \n"
     ]
    }
   ],
   "source": [
    "query = \"which product categories contributed most to its gross merchandise volume during the sale?\"\n",
    "\n",
    "# Run the query\n",
    "print(f\"\\nQuery: {query}\")\n",
    "result = chain({\"question\": query}, return_only_outputs=True)\n",
    "\n",
    "print(\"\\n=== RESULT ===\")\n",
    "print(\"Answer:\", result.get('answer', 'No answer found'))\n",
    "print(\"Sources:\", result.get('sources', 'No sources found'))"
   ]
  },
  {
   "cell_type": "code",
   "execution_count": 75,
   "id": "7b902173-413a-423d-bab3-6505caa24494",
   "metadata": {
    "scrolled": true
   },
   "outputs": [
    {
     "name": "stdout",
     "output_type": "stream",
     "text": [
      "\n",
      "Query: How many cloud services provided?\n",
      "\n",
      "=== RESULT ===\n",
      "Answer: 1. Based on the provided portions of the documents, it can be inferred that AWS offers at least three cloud services, including Amazon S3, Amazon Simple Queue Service, and Amazon EC2. However, it is unclear how many cloud services are provided in total as the information provided may not be exhaustive.\n",
      "\n",
      "2. According to the text, as of 2025, the AWS ecosystem includes more than 200 cloud-based services used by millions of customers worldwide. Therefore, it can be inferred that AWS offers over 200 cloud services.\n",
      "\n",
      "3. Based on the provided question and text, the cloud service provided for data archiving and storage is Amazon S3 Glacier. Other storage classes are also available for different access patterns and storage durations.\n",
      "Sources: \n"
     ]
    }
   ],
   "source": [
    "query = \"How many cloud services provided?\"\n",
    "\n",
    "# Run the query\n",
    "print(f\"\\nQuery: {query}\")\n",
    "result = chain({\"question\": query}, return_only_outputs=True)\n",
    "\n",
    "print(\"\\n=== RESULT ===\")\n",
    "print(\"Answer:\", result.get('answer', 'No answer found'))\n",
    "print(\"Sources:\", result.get('sources', 'No sources found'))"
   ]
  },
  {
   "cell_type": "markdown",
   "id": "5f182692-3b8f-4a97-8837-20b8dbd2c51c",
   "metadata": {},
   "source": [
    "#### *Both queries i did mention company names, just askedquestion i have randomly, It gave answers after recognizing the company which i have been asked*"
   ]
  },
  {
   "cell_type": "code",
   "execution_count": null,
   "id": "bc42675a-535d-457b-903d-75c5da4aac3d",
   "metadata": {},
   "outputs": [],
   "source": []
  }
 ],
 "metadata": {
  "kernelspec": {
   "display_name": "Python (base)",
   "language": "python",
   "name": "base"
  },
  "language_info": {
   "codemirror_mode": {
    "name": "ipython",
    "version": 3
   },
   "file_extension": ".py",
   "mimetype": "text/x-python",
   "name": "python",
   "nbconvert_exporter": "python",
   "pygments_lexer": "ipython3",
   "version": "3.12.7"
  }
 },
 "nbformat": 4,
 "nbformat_minor": 5
}
